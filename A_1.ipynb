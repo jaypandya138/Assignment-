{
 "cells": [
  {
   "cell_type": "markdown",
   "metadata": {},
   "source": [
    " * (expression) \n",
    "-87.8 (int number)\n",
    "-  (expression)\n",
    "/ (expression)\n",
    "+ (expression)\n",
    "6 (int number)"
   ]
  },
  {
   "cell_type": "markdown",
   "metadata": {},
   "source": [
    "# 2. What is the difference between string and variable?"
   ]
  },
  {
   "cell_type": "code",
   "execution_count": null,
   "metadata": {},
   "outputs": [],
   "source": [
    "where the string is a collection of the chars in other side variables are for store the strings,lists,sets,dicts etc"
   ]
  },
  {
   "cell_type": "markdown",
   "metadata": {},
   "source": [
    "# 3. Describe three different data types."
   ]
  },
  {
   "cell_type": "code",
   "execution_count": 5,
   "metadata": {},
   "outputs": [
    {
     "name": "stdout",
     "output_type": "stream",
     "text": [
      "<class 'int'>\n",
      "<class 'float'>\n",
      "<class 'complex'>\n"
     ]
    }
   ],
   "source": [
    "\"\"\"\n",
    "THE FIRST DATATYPE IS int IT GIVE HOLE NUMBERS AS OUTPUT\n",
    "\"\"\"\n",
    "x=8\n",
    "print(type(x))\n",
    "\n",
    "\"\"\"\n",
    "THE SECOND DTATATYPE IF float IT GIVE OUTPUT WITH FRACTIONAL PART \n",
    "\"\"\"\n",
    "\n",
    "x=6.5\n",
    "print(type(x))\n",
    "\n",
    "\"\"\"\n",
    "THE THIRD DATA TYPE IS complex THIS TYPE OF DATA HAD IMG AND REAL PART ALONG WITH NUMERIC DATA\n",
    "\"\"\"\n",
    "x=2+3j\n",
    "print(type(x))"
   ]
  },
  {
   "cell_type": "markdown",
   "metadata": {},
   "source": [
    "# 4. What is an expression made up of? What do all expressions do?"
   ]
  },
  {
   "cell_type": "code",
   "execution_count": 8,
   "metadata": {
    "scrolled": true
   },
   "outputs": [
    {
     "name": "stdout",
     "output_type": "stream",
     "text": [
      "80\n",
      "8\n"
     ]
    }
   ],
   "source": [
    "## where the exprections are made by many vars,functions etc exprections can give the output in various datatype also\n",
    "x=10*8 #multiplication\n",
    "print(x)\n",
    "\n",
    "y=2**3\n",
    "print(y)"
   ]
  },
  {
   "cell_type": "markdown",
   "metadata": {},
   "source": [
    "# 5. This assignment statements, like spam = 10. What is the difference between an\n"
   ]
  },
  {
   "cell_type": "code",
   "execution_count": null,
   "metadata": {},
   "outputs": [],
   "source": [
    "#expressions return the values where statements are standalone they didn't return any kind of values "
   ]
  },
  {
   "cell_type": "markdown",
   "metadata": {},
   "source": [
    "# 6. After running the following code, what does the variable bacon contain?"
   ]
  },
  {
   "cell_type": "code",
   "execution_count": 9,
   "metadata": {},
   "outputs": [
    {
     "data": {
      "text/plain": [
       "23"
      ]
     },
     "execution_count": 9,
     "metadata": {},
     "output_type": "execute_result"
    }
   ],
   "source": [
    "bacon = 22\n",
    "bacon + 1"
   ]
  },
  {
   "cell_type": "markdown",
   "metadata": {},
   "source": [
    "# 7. What should the values of the following two terms be?"
   ]
  },
  {
   "cell_type": "code",
   "execution_count": 10,
   "metadata": {},
   "outputs": [
    {
     "name": "stdout",
     "output_type": "stream",
     "text": [
      "spamspamspam\n",
      "spamspamspam\n"
     ]
    }
   ],
   "source": [
    "x= \"spam\"+\"spamspam\"\n",
    "y=\"spam\"*3\n",
    "print(x)\n",
    "print(y)"
   ]
  },
  {
   "cell_type": "markdown",
   "metadata": {},
   "source": [
    "# 8. Why is eggs a valid variable name while 100 is invalid?"
   ]
  },
  {
   "cell_type": "code",
   "execution_count": 11,
   "metadata": {},
   "outputs": [
    {
     "ename": "SyntaxError",
     "evalue": "cannot assign to literal (<ipython-input-11-ef9b8b745fdf>, line 2)",
     "output_type": "error",
     "traceback": [
      "\u001b[1;36m  File \u001b[1;32m\"<ipython-input-11-ef9b8b745fdf>\"\u001b[1;36m, line \u001b[1;32m2\u001b[0m\n\u001b[1;33m    100 =50\u001b[0m\n\u001b[1;37m    ^\u001b[0m\n\u001b[1;31mSyntaxError\u001b[0m\u001b[1;31m:\u001b[0m cannot assign to literal\n"
     ]
    }
   ],
   "source": [
    "eggs = 50\n",
    "100 =50\n",
    "print(eggs)\n",
    "print(100)\n",
    "\"\"\"\n",
    "where 100 is a constant number and i am going to give constat number to the 100 so that is not possible so we preffered a valid variable name instans of 100 is eggs\n",
    "\"\"\""
   ]
  },
  {
   "cell_type": "markdown",
   "metadata": {},
   "source": [
    "# 9. What three functions can be used to get the integer, floating-point number, or string\n"
   ]
  },
  {
   "cell_type": "code",
   "execution_count": 13,
   "metadata": {},
   "outputs": [
    {
     "name": "stdout",
     "output_type": "stream",
     "text": [
      "8\n",
      "34.5\n",
      "go\n"
     ]
    }
   ],
   "source": [
    "## for interger we use int(),for float values we use float() and for string we use str() function\n",
    "x=int(8)\n",
    "print(x)\n",
    "\n",
    "y=float(34.5)\n",
    "print(y)\n",
    "\n",
    "z=str(\"go\")\n",
    "print(z)"
   ]
  },
  {
   "cell_type": "markdown",
   "metadata": {},
   "source": [
    "# Why does this expression cause an error? How can you fix it?\n"
   ]
  },
  {
   "cell_type": "code",
   "execution_count": 17,
   "metadata": {},
   "outputs": [
    {
     "name": "stdout",
     "output_type": "stream",
     "text": [
      "I have eaten : 99 burritos\n"
     ]
    }
   ],
   "source": [
    "# x = \"I have eaten\"+99+\"burritos\"\n",
    "# print(x)\n",
    "\n",
    "# we can't concatinate the int number withe string\n",
    "\n",
    "#solution\n",
    "y=99\n",
    "x= \"I have eaten : {} burritos\".format(y)\n",
    "print(x)"
   ]
  },
  {
   "cell_type": "code",
   "execution_count": null,
   "metadata": {},
   "outputs": [],
   "source": []
  }
 ],
 "metadata": {
  "kernelspec": {
   "display_name": "Python 3",
   "language": "python",
   "name": "python3"
  },
  "language_info": {
   "codemirror_mode": {
    "name": "ipython",
    "version": 3
   },
   "file_extension": ".py",
   "mimetype": "text/x-python",
   "name": "python",
   "nbconvert_exporter": "python",
   "pygments_lexer": "ipython3",
   "version": "3.8.5"
  }
 },
 "nbformat": 4,
 "nbformat_minor": 4
}
